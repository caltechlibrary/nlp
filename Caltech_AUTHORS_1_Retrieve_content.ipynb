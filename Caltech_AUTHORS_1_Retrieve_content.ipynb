{
  "nbformat": 4,
  "nbformat_minor": 0,
  "metadata": {
    "colab": {
      "name": "Caltech AUTHORS 1 - Retrieve content.ipynb",
      "provenance": [],
      "collapsed_sections": [],
      "mount_file_id": "1OYG-q5A0uY9UIKk34jnVLOZYvC8RYkHK",
      "authorship_tag": "ABX9TyM0BPrRddpkxrO9OUBo2moP",
      "include_colab_link": true
    },
    "kernelspec": {
      "name": "python3",
      "display_name": "Python 3"
    },
    "language_info": {
      "name": "python"
    }
  },
  "cells": [
    {
      "cell_type": "markdown",
      "metadata": {
        "id": "view-in-github",
        "colab_type": "text"
      },
      "source": [
        "<a href=\"https://colab.research.google.com/github/nosivads/nlp/blob/main/Caltech_AUTHORS_1_Retrieve_content.ipynb\" target=\"_parent\"><img src=\"https://colab.research.google.com/assets/colab-badge.svg\" alt=\"Open In Colab\"/></a>"
      ]
    },
    {
      "cell_type": "code",
      "metadata": {
        "id": "UdXS4wPIknkf",
        "colab": {
          "base_uri": "https://localhost:8080/"
        },
        "outputId": "c0142ba3-de90-4b14-c19a-3edd96308c2a"
      },
      "source": [
        "%cd /content/drive/MyDrive/MyData/\n",
        "%ls"
      ],
      "execution_count": null,
      "outputs": [
        {
          "output_type": "stream",
          "text": [
            "/content/drive/MyDrive/MyData\n",
            "\u001b[0m\u001b[01;34mauthors_files\u001b[0m/                                             eprint_ids.json\n",
            "copper-ii-inhibition-of-the-sars-co-v-2-main-protease.pdf\n"
          ],
          "name": "stdout"
        }
      ]
    },
    {
      "cell_type": "code",
      "metadata": {
        "id": "RbiQuLOmnZTJ"
      },
      "source": [
        "import json\n",
        "with open('eprint_ids.json', 'r') as f:\n",
        "  authors_ids = json.load(f)"
      ],
      "execution_count": null,
      "outputs": []
    },
    {
      "cell_type": "code",
      "metadata": {
        "colab": {
          "base_uri": "https://localhost:8080/"
        },
        "id": "vgtsII4HnbVp",
        "outputId": "d7f28b5b-bcb7-4bc4-8cb4-8e47e7baadb1"
      },
      "source": [
        "authors_ids[:5]"
      ],
      "execution_count": null,
      "outputs": [
        {
          "output_type": "execute_result",
          "data": {
            "text/plain": [
              "[4, 5, 6, 7, 9]"
            ]
          },
          "metadata": {},
          "execution_count": 3
        }
      ]
    },
    {
      "cell_type": "code",
      "metadata": {
        "colab": {
          "base_uri": "https://localhost:8080/"
        },
        "id": "T0RVxj1ypPSJ",
        "outputId": "00828300-b60e-4b36-9da5-5048a7324d99"
      },
      "source": [
        "authors_ids[-5:]"
      ],
      "execution_count": null,
      "outputs": [
        {
          "output_type": "execute_result",
          "data": {
            "text/plain": [
              "[110592, 110593, 110594, 110595, 110596]"
            ]
          },
          "metadata": {},
          "execution_count": 4
        }
      ]
    },
    {
      "cell_type": "code",
      "metadata": {
        "colab": {
          "base_uri": "https://localhost:8080/"
        },
        "id": "RVUr8kVnpXZ3",
        "outputId": "36a5a28d-0bc8-4f8e-9241-37b278dc5525"
      },
      "source": [
        "len(authors_ids)"
      ],
      "execution_count": null,
      "outputs": [
        {
          "output_type": "execute_result",
          "data": {
            "text/plain": [
              "98208"
            ]
          },
          "metadata": {},
          "execution_count": 5
        }
      ]
    },
    {
      "cell_type": "code",
      "metadata": {
        "id": "UBDVi7vFpeLN"
      },
      "source": [
        "import random\n",
        "authors_ids_100 = random.sample(authors_ids, 100)"
      ],
      "execution_count": null,
      "outputs": []
    },
    {
      "cell_type": "code",
      "metadata": {
        "colab": {
          "base_uri": "https://localhost:8080/"
        },
        "id": "4ueyw2PvpsZW",
        "outputId": "2c2b2751-deba-4ed1-852f-68b5bf658720"
      },
      "source": [
        "authors_ids_100[:5]"
      ],
      "execution_count": null,
      "outputs": [
        {
          "output_type": "execute_result",
          "data": {
            "text/plain": [
              "[81607, 82875, 74970, 15934, 77914]"
            ]
          },
          "metadata": {},
          "execution_count": 7
        }
      ]
    },
    {
      "cell_type": "code",
      "metadata": {
        "colab": {
          "base_uri": "https://localhost:8080/"
        },
        "id": "FKAKt_OhqRSn",
        "outputId": "cfb52c5c-d75a-4bfa-d889-dc5d14bab228"
      },
      "source": [
        "authors_ids_100[-5:]"
      ],
      "execution_count": null,
      "outputs": [
        {
          "output_type": "execute_result",
          "data": {
            "text/plain": [
              "[102614, 5427, 72544, 49626, 59410]"
            ]
          },
          "metadata": {},
          "execution_count": 8
        }
      ]
    },
    {
      "cell_type": "code",
      "metadata": {
        "id": "WZY_zScPs70o"
      },
      "source": [
        "authors_sample_urls = []\n",
        "for id in authors_ids_100:\n",
        "  authors_sample_urls.append('https://authors.library.caltech.edu/'+str(id)+'/')"
      ],
      "execution_count": null,
      "outputs": []
    },
    {
      "cell_type": "code",
      "metadata": {
        "colab": {
          "base_uri": "https://localhost:8080/"
        },
        "id": "sWOI6n-UtU_N",
        "outputId": "9198d6b3-611b-4ece-919d-09ab3b57e679"
      },
      "source": [
        "authors_sample_urls[:5]"
      ],
      "execution_count": null,
      "outputs": [
        {
          "output_type": "execute_result",
          "data": {
            "text/plain": [
              "['https://authors.library.caltech.edu/81607/',\n",
              " 'https://authors.library.caltech.edu/82875/',\n",
              " 'https://authors.library.caltech.edu/74970/',\n",
              " 'https://authors.library.caltech.edu/15934/',\n",
              " 'https://authors.library.caltech.edu/77914/']"
            ]
          },
          "metadata": {},
          "execution_count": 10
        }
      ]
    },
    {
      "cell_type": "code",
      "metadata": {
        "colab": {
          "base_uri": "https://localhost:8080/"
        },
        "id": "zHOB98Cyte_k",
        "outputId": "458b2bc4-da73-43b0-8d87-75bce4143bea"
      },
      "source": [
        "authors_sample_urls[-5:]"
      ],
      "execution_count": null,
      "outputs": [
        {
          "output_type": "execute_result",
          "data": {
            "text/plain": [
              "['https://authors.library.caltech.edu/102614/',\n",
              " 'https://authors.library.caltech.edu/5427/',\n",
              " 'https://authors.library.caltech.edu/72544/',\n",
              " 'https://authors.library.caltech.edu/49626/',\n",
              " 'https://authors.library.caltech.edu/59410/']"
            ]
          },
          "metadata": {},
          "execution_count": 11
        }
      ]
    },
    {
      "cell_type": "code",
      "metadata": {
        "colab": {
          "base_uri": "https://localhost:8080/"
        },
        "id": "sgsLNHKmtj2m",
        "outputId": "ce4c4fc4-73d2-4c7d-bc6e-4cad9a75d5ee"
      },
      "source": [
        "len(authors_sample_urls)"
      ],
      "execution_count": null,
      "outputs": [
        {
          "output_type": "execute_result",
          "data": {
            "text/plain": [
              "100"
            ]
          },
          "metadata": {},
          "execution_count": 12
        }
      ]
    },
    {
      "cell_type": "code",
      "metadata": {
        "id": "Ul_Y3Du5sqsz"
      },
      "source": [
        "url = authors_sample_urls[0]"
      ],
      "execution_count": null,
      "outputs": []
    },
    {
      "cell_type": "code",
      "metadata": {
        "colab": {
          "base_uri": "https://localhost:8080/",
          "height": 35
        },
        "id": "6Mgg9yf5vMEx",
        "outputId": "54a0fe91-aa02-49c1-bf15-ac9866fca214"
      },
      "source": [
        "url"
      ],
      "execution_count": null,
      "outputs": [
        {
          "output_type": "execute_result",
          "data": {
            "application/vnd.google.colaboratory.intrinsic+json": {
              "type": "string"
            },
            "text/plain": [
              "'https://authors.library.caltech.edu/81607/'"
            ]
          },
          "metadata": {},
          "execution_count": 14
        }
      ]
    },
    {
      "cell_type": "code",
      "metadata": {
        "id": "G7Cu1Nt3uEvN"
      },
      "source": [
        "import requests\n",
        "page = requests.get(url).text"
      ],
      "execution_count": null,
      "outputs": []
    },
    {
      "cell_type": "code",
      "metadata": {
        "colab": {
          "base_uri": "https://localhost:8080/",
          "height": 191
        },
        "id": "xxNib4uivmbU",
        "outputId": "b7d78c8b-c34c-4a22-fd02-241f48197627"
      },
      "source": [
        "page"
      ],
      "execution_count": null,
      "outputs": [
        {
          "output_type": "execute_result",
          "data": {
            "application/vnd.google.colaboratory.intrinsic+json": {
              "type": "string"
            },
            "text/plain": [
              "'<!DOCTYPE html PUBLIC \"-//W3C//DTD XHTML 1.0 Transitional//EN\" \"http://www.w3.org/TR/xhtml1/DTD/xhtml1-transitional.dtd\">\\n<html xmlns=\"http://www.w3.org/1999/xhtml\">\\n  <head>\\n     <meta name=\"google-site-verification\" content=\"S9ahhSTJNJrGXH8CLzN9O29lYE5sbaFyCLkdCXHU24U\" />\\n    <title> Two spectrograph control displays for the W. M. Keck Telescope  - CaltechAUTHORS</title>\\n    <script src=\"https://authors.library.caltech.edu/javascript/auto.js\" type=\"text/javascript\"><!-- nope --></script>\\n    <style type=\"text/css\" media=\"screen\">@import url(https://authors.library.caltech.edu/style/auto.css);</style>\\n    <style type=\"text/css\" media=\"print\">@import url(https://authors.library.caltech.edu/style/print.css);</style>\\n    <link rel=\"icon\" href=\"/favicon.ico\" type=\"image/x-icon\" />\\n    <link rel=\"shortcut icon\" href=\"/favicon.ico\" type=\"image/x-icon\" />\\n    <link rel=\"Top\" href=\"https://authors.library.caltech.edu/\" />\\n    <link rel=\"Search\" href=\"https://authors.library.caltech.edu/cgi/search\" />\\n    <meta name=\"eprints.eprintid\" content=\"81607\" />\\n<meta name=\"eprints.rev_number\" content=\"10\" />\\n<meta name=\"eprints.eprint_status\" content=\"archive\" />\\n<meta name=\"eprints.userid\" content=\"772\" />\\n<meta name=\"eprints.dir\" content=\"disk0/00/08/16/07\" />\\n<meta name=\"eprints.datestamp\" content=\"2017-09-20 19:09:28\" />\\n<meta name=\"eprints.lastmod\" content=\"2020-03-09 13:18:00\" />\\n<meta name=\"eprints.status_changed\" content=\"2017-09-20 19:09:28\" />\\n<meta name=\"eprints.type\" content=\"book_section\" />\\n<meta name=\"eprints.metadata_visibility\" content=\"show\" />\\n<meta name=\"eprints.creators_name\" content=\"Conrad, Al\" />\\n<meta name=\"eprints.creators_name\" content=\"Kibrick, Bob\" />\\n<meta name=\"eprints.creators_name\" content=\"Cromer, John\" />\\n<meta name=\"eprints.creators_id\" content=\"Conrad-A\" />\\n<meta name=\"eprints.creators_id\" content=\"Kibrick-B\" />\\n<meta name=\"eprints.creators_id\" content=\"Cromer-J-L\" />\\n<meta name=\"eprints.creators_orcid\" content=\"0000-0003-2872-0061\" />\\n<meta name=\"eprints.title\" content=\"Two spectrograph control displays for the W. M. Keck Telescope\" />\\n<meta name=\"eprints.ispublished\" content=\"pub\" />\\n<meta name=\"eprints.full_text_status\" content=\"public\" />\\n<meta name=\"eprints.note\" content=\"© 1994 Society of Photo-Optical Instrumentation Engineers (SPIE). \\r\\n\\r\\n1 June 1994. \\r\\n\\r\\nWe thank Steve Vogt and Judy Cohen for providing the specifications for xhires and xlris (respectively). We also thank Dean Tucker for developing the high resolution echelle spectrograph motor control software. Finally, we thank Julie Barreto for proofreading early drafts of the document. \\r\\n\\r\\nThe W.M. Keck Observatory is operated as a scientific partnership between the California Institute of Technology and the University of California. The observatory was made possible by the generous financial support of the W.M. Keck Foundation.\" />\\n<meta name=\"eprints.abstract\" content=\"We analyze the look and feel of each display and discuss its software design. Developed using the Motif Toolkit, each display runs on an X windows work station. In the area of look and feel, we discuss the pros and cons of graphically depicting the instrument light path. In the area of software design, we discuss Motif and Xlib programming techniques.\" />\\n<meta name=\"eprints.date\" content=\"1994-06-01\" />\\n<meta name=\"eprints.date_type\" content=\"published\" />\\n<meta name=\"eprints.series\" content=\"Proceedings of SPIE\" />\\n<meta name=\"eprints.number\" content=\"2198\" />\\n<meta name=\"eprints.publisher\" content=\"Society of Photo-Optical Instrumentation Engineers (SPIE)\" />\\n<meta name=\"eprints.place_of_pub\" content=\"Bellingham, WA\" />\\n<meta name=\"eprints.pagerange\" content=\"1151-1157\" />\\n<meta name=\"eprints.event_title\" content=\"Instrumentation in Astronomy VIII\" />\\n<meta name=\"eprints.event_location\" content=\"Kailua, HI\" />\\n<meta name=\"eprints.event_dates\" content=\"March 13-14, 1994\" />\\n<meta name=\"eprints.event_type\" content=\"conference\" />\\n<meta name=\"eprints.id_number\" content=\"CaltechAUTHORS:20170920-085447816\" />\\n<meta name=\"eprints.refereed\" content=\"TRUE\" />\\n<meta name=\"eprints.isbn\" content=\"081941493X\" />\\n<meta name=\"eprints.issn\" content=\"0277786X\" />\\n<meta name=\"eprints.book_title\" content=\"Instrumentation in Astronomy VIII\" />\\n<meta name=\"eprints.editors_name\" content=\"Crawford, David L.\" />\\n<meta name=\"eprints.editors_name\" content=\"Craine, Eric R.\" />\\n<meta name=\"eprints.editors_id\" content=\"Crawford-D-L\" />\\n<meta name=\"eprints.editors_id\" content=\"Craine-E-R\" />\\n<meta name=\"eprints.official_url\" content=\"https://resolver.caltech.edu/CaltechAUTHORS:20170920-085447816\" />\\n<meta name=\"eprints.related_url_url\" content=\"http://dx.doi.org/10.1117/12.176699\" />\\n<meta name=\"eprints.related_url_url\" content=\"https://www.spiedigitallibrary.org/conference-proceedings-of-spie/2198/0000/Two-spectrograph-control-displays-for-the-WM-Keck-Telescope/10.1117/12.176699.full\" />\\n<meta name=\"eprints.related_url_type\" content=\"doi\" />\\n<meta name=\"eprints.related_url_type\" content=\"author\" />\\n<meta name=\"eprints.related_url_description\" content=\"Article\" />\\n<meta name=\"eprints.related_url_description\" content=\"Article\" />\\n<meta name=\"eprints.referencetext\" content=\"1. A. R. Conrad and W. F. Lupton, &quot;The Keck Keyword Layer&quot;, AstronomicalData Analysis Software\\r\\nand Systems II, ASP Conference Series, Vol 52, 1993\" />\\n<meta name=\"eprints.rights\" content=\"No commercial reproduction, distribution, display or performance rights in this work are provided.\" />\\n<meta name=\"eprints.official_cit\" content=\"Albert Conrad, Robert I. Kibrick, John Cromer, &quot;Two spectrograph control displays for the W.M. Keck Telescope&quot;, Proc. SPIE 2198, Instrumentation in Astronomy VIII, (1 June 1994); doi: http://dx.doi.org/10.1117/12.176699\" />\\n<meta name=\"eprints.funders_agency\" content=\"W. M. Keck Foundation\" />\\n<meta name=\"eprints.collection\" content=\"CaltechAUTHORS\" />\\n<meta name=\"eprints.reviewer\" content=\"George Porter\" />\\n<meta name=\"eprints.citation\" content=\"  Conrad, Al and Kibrick, Bob and Cromer, John  (1994)  Two spectrograph control displays for the W. M. Keck Telescope.   In:  Instrumentation in Astronomy VIII.  Proceedings of SPIE.   No.2198. Society of Photo-Optical Instrumentation Engineers (SPIE) , Bellingham, WA, pp. 1151-1157.  ISBN 081941493X.      https://resolver.caltech.edu/CaltechAUTHORS:20170920-085447816 &lt;https://resolver.caltech.edu/CaltechAUTHORS:20170920-085447816&gt;  \" />\\n<meta name=\"eprints.document_url\" content=\"https://authors.library.caltech.edu/81607/1/1151_1.pdf\" />\\n<link rel=\"schema.DC\" href=\"http://purl.org/DC/elements/1.0/\" />\\n<meta name=\"DC.relation\" content=\"https://authors.library.caltech.edu/81607/\" />\\n<meta name=\"DC.title\" content=\"Two spectrograph control displays for the W. M. Keck Telescope\" />\\n<meta name=\"DC.creator\" content=\"Conrad, Al\" />\\n<meta name=\"DC.creator\" content=\"Kibrick, Bob\" />\\n<meta name=\"DC.creator\" content=\"Cromer, John\" />\\n<meta name=\"DC.description\" content=\"We analyze the look and feel of each display and discuss its software design. Developed using the Motif Toolkit, each display runs on an X windows work station. In the area of look and feel, we discuss the pros and cons of graphically depicting the instrument light path. In the area of software design, we discuss Motif and Xlib programming techniques.\" />\\n<meta name=\"DC.publisher\" content=\"Society of Photo-Optical Instrumentation Engineers (SPIE)\" />\\n<meta name=\"DC.contributor\" content=\"Crawford, David L.\" />\\n<meta name=\"DC.contributor\" content=\"Craine, Eric R.\" />\\n<meta name=\"DC.date\" content=\"1994-06-01\" />\\n<meta name=\"DC.type\" content=\"Book Section\" />\\n<meta name=\"DC.type\" content=\"PeerReviewed\" />\\n<meta name=\"DC.format\" content=\"application/pdf\" />\\n<meta name=\"DC.language\" content=\"en\" />\\n<meta name=\"DC.rights\" content=\"other\" />\\n<meta name=\"DC.identifier\" content=\"https://authors.library.caltech.edu/81607/1/1151_1.pdf\" />\\n<meta name=\"DC.identifier\" content=\"  Conrad, Al and Kibrick, Bob and Cromer, John  (1994)  Two spectrograph control displays for the W. M. Keck Telescope.   In:  Instrumentation in Astronomy VIII.  Proceedings of SPIE.   No.2198. Society of Photo-Optical Instrumentation Engineers (SPIE) , Bellingham, WA, pp. 1151-1157.  ISBN 081941493X.      https://resolver.caltech.edu/CaltechAUTHORS:20170920-085447816 &lt;https://resolver.caltech.edu/CaltechAUTHORS:20170920-085447816&gt;  \" />\\n<meta name=\"DC.relation\" content=\"https://resolver.caltech.edu/CaltechAUTHORS:20170920-085447816\" />\\n<meta name=\"DC.relation\" content=\"CaltechAUTHORS:20170920-085447816\" />\\n<link rel=\"alternate\" href=\"https://authors.library.caltech.edu/cgi/export/eprint/81607/ContextObject/caltechauthors-eprint-81607.xml\" type=\"text/xml; charset=utf-8\" title=\"OpenURL ContextObject\" />\\n<link rel=\"alternate\" href=\"https://authors.library.caltech.edu/cgi/export/eprint/81607/RDFXML/caltechauthors-eprint-81607.rdf\" type=\"application/rdf+xml\" title=\"RDF+XML\" />\\n<link rel=\"alternate\" href=\"https://authors.library.caltech.edu/cgi/export/eprint/81607/Atom/caltechauthors-eprint-81607.xml\" type=\"application/atom+xml;charset=utf-8\" title=\"Atom\" />\\n<link rel=\"alternate\" href=\"https://authors.library.caltech.edu/cgi/export/eprint/81607/Simple/caltechauthors-eprint-81607.txt\" type=\"text/plain; charset=utf-8\" title=\"Simple Metadata\" />\\n<link rel=\"alternate\" href=\"https://authors.library.caltech.edu/cgi/export/eprint/81607/Text/caltechauthors-eprint-81607.txt\" type=\"text/plain; charset=utf-8\" title=\"ASCII Citation\" />\\n<link rel=\"alternate\" href=\"https://authors.library.caltech.edu/cgi/export/eprint/81607/Refer/caltechauthors-eprint-81607.refer\" type=\"text/plain\" title=\"Refer\" />\\n<link rel=\"alternate\" href=\"https://authors.library.caltech.edu/cgi/export/eprint/81607/XML/caltechauthors-eprint-81607.xml\" type=\"application/vnd.eprints.data+xml; charset=utf-8\" title=\"EP3 XML\" />\\n<link rel=\"alternate\" href=\"https://authors.library.caltech.edu/cgi/export/eprint/81607/RIS/caltechauthors-eprint-81607.ris\" type=\"text/plain\" title=\"Reference Manager\" />\\n<link rel=\"alternate\" href=\"https://authors.library.caltech.edu/cgi/export/eprint/81607/LocalEndNote/caltechauthors-eprint-81607.enw\" type=\"text/plain; charset=utf-8\" title=\"EndNote\" />\\n<link rel=\"alternate\" href=\"https://authors.library.caltech.edu/cgi/export/eprint/81607/COinS/caltechauthors-eprint-81607.txt\" type=\"text/plain; charset=utf-8\" title=\"OpenURL ContextObject in Span\" />\\n<link rel=\"alternate\" href=\"https://authors.library.caltech.edu/cgi/export/eprint/81607/LocalBibTeX/caltechauthors-eprint-81607.bib\" type=\"text/plain\" title=\"BibTeX\" />\\n<link rel=\"alternate\" href=\"https://authors.library.caltech.edu/cgi/export/eprint/81607/MODS/caltechauthors-eprint-81607.xml\" type=\"text/xml; charset=utf-8\" title=\"MODS\" />\\n<link rel=\"alternate\" href=\"https://authors.library.caltech.edu/cgi/export/eprint/81607/HTML/caltechauthors-eprint-81607.html\" type=\"text/html; charset=utf-8\" title=\"HTML Citation\" />\\n<link rel=\"alternate\" href=\"https://authors.library.caltech.edu/cgi/export/eprint/81607/CSV/caltechauthors-eprint-81607.csv\" type=\"text/csv; charset=utf-8\" title=\"Multiline CSV\" />\\n<link rel=\"alternate\" href=\"https://authors.library.caltech.edu/cgi/export/eprint/81607/RDFNT/caltechauthors-eprint-81607.nt\" type=\"text/plain\" title=\"RDF+N-Triples\" />\\n<link rel=\"alternate\" href=\"https://authors.library.caltech.edu/cgi/export/eprint/81607/DC/caltechauthors-eprint-81607.txt\" type=\"text/plain; charset=utf-8\" title=\"Dublin Core\" />\\n<link rel=\"alternate\" href=\"https://authors.library.caltech.edu/cgi/export/eprint/81607/TSV/caltechauthors-eprint-81607.tsv\" type=\"text/tab-separated-values; charset=utf-8\" title=\"TSV\" />\\n<link rel=\"alternate\" href=\"https://authors.library.caltech.edu/cgi/export/eprint/81607/RDFN3/caltechauthors-eprint-81607.n3\" type=\"text/n3\" title=\"RDF+N3\" />\\n<link rel=\"alternate\" href=\"https://authors.library.caltech.edu/cgi/export/eprint/81607/METS/caltechauthors-eprint-81607.xml\" type=\"text/xml; charset=utf-8\" title=\"METS\" />\\n<link rel=\"alternate\" href=\"https://authors.library.caltech.edu/cgi/export/eprint/81607/JSON/caltechauthors-eprint-81607.js\" type=\"application/json; charset=utf-8\" title=\"JSON\" />\\n<link rel=\"alternate\" href=\"https://authors.library.caltech.edu/cgi/export/eprint/81607/DIDL/caltechauthors-eprint-81607.xml\" type=\"text/xml; charset=utf-8\" title=\"MPEG-21 DIDL\" />\\n<link rel=\"Top\" href=\"https://authors.library.caltech.edu/\" />\\n    <link rel=\"Sword\" href=\"https://authors.library.caltech.edu/sword-app/servicedocument\" />\\n    <link rel=\"SwordDeposit\" href=\"https://authors.library.caltech.edu/id/contents\" />\\n    <link rel=\"Search\" type=\"text/html\" href=\"http://authors.library.caltech.edu/cgi/search\" />\\n    <link rel=\"Search\" type=\"application/opensearchdescription+xml\" href=\"http://authors.library.caltech.edu/cgi/opensearchdescription\" title=\"CaltechAUTHORS\" />\\n    <script type=\"text/javascript\" src=\"https://www.google.com/jsapi\"><!--padder--></script><script type=\"text/javascript\">\\n// <![CDATA[\\ngoogle.load(\"visualization\", \"1\", {packages:[\"corechart\", \"geochart\"]});\\n// ]]></script><script type=\"text/javascript\">\\n// <![CDATA[\\nvar eprints_http_root = \"https://authors.library.caltech.edu\";\\nvar eprints_http_cgiroot = \"https://authors.library.caltech.edu/cgi\";\\nvar eprints_oai_archive_id = \"authors.library.caltech.edu\";\\nvar eprints_logged_in = false;\\n// ]]></script>\\n    <style type=\"text/css\">.ep_logged_in { display: none }</style>\\n    <link rel=\"stylesheet\" type=\"text/css\" href=\"/style/auto-3.3.16.css\" />\\n    <script type=\"text/javascript\" src=\"/javascript/auto-3.3.16.js\"><!--padder--></script>\\n    <!--[if lte IE 6]>\\n        <link rel=\"stylesheet\" type=\"text/css\" href=\"/style/ie6.css\" />\\n   <![endif]-->\\n    <meta name=\"Generator\" content=\"EPrints 3.3.16\" />\\n    <meta http-equiv=\"Content-Type\" content=\"text/html; charset=UTF-8\" />\\n    <meta http-equiv=\"Content-Language\" content=\"en\" />\\n    \\n  </head>\\n  <body bgcolor=\"#ffffff\" text=\"#000000\">\\n    <div class=\"ep_noprint\"><noscript><style type=\"text/css\">@import url(https://authors.library.caltech.edu/style/nojs.css);</style></noscript></div>\\n    \\n    <div class=\"ep_tm_header ep_noprint\">\\n      <div class=\"ep_tm_sponsor_logo\"><a href=\"https://library.caltech.edu\"><img alt=\"CLS Logo\" src=\"/images/new_cls_logo_60.gif\" /></a></div>\\n      <div class=\"ep_tm_logo\"><a href=\"https://libguides.caltech.edu/CODA\"><img alt=\"CODA Logo\" src=\"/images/codalogo.jpg\" /></a></div>\\n      <div><a class=\"ep_tm_archivetitle\" href=\"https://authors.library.caltech.edu/\">CaltechAUTHORS</a></div>\\n      <div><a class=\"ep_tm_archive_subtitle\" href=\"https://library.caltech.edu\">\\xa0\\xa0A Caltech Library Service</a></div>\\n\\n  <ul class=\"ep_tm_menu\"><li><a href=\"https://authors.library.caltech.edu/\">Home</a></li>\\n                         <li><a href=\"https://authors.library.caltech.edu/information.html\">About</a></li>\\n                         <li><a href=\"https://authors.library.caltech.edu/browseviews.html\">Browse</a></li>\\n                         <li><a href=\"https://authors.library.caltech.edu/cgi/search/simple\">Simple Search</a></li>\\n                         <li><a href=\"https://authors.library.caltech.edu/cgi/search/advsearch\">Advanced Search</a></li>\\n                         <li><a href=\"https://authors.library.caltech.edu/cgi/users/home\">Deposit</a></li>\\n\\t\\t\\t <li><a href=\"https://www.library.caltech.edu/contact\">Contact Us</a></li>\\n  </ul>\\n\\n  <table class=\"ep_tm_searchbar\" border=\"0\" cellpadding=\"0\" cellspacing=\"0\" width=\"100%\">\\n    <tr>\\n      <td align=\"left\"><a href=\"https://authors.library.caltech.edu/cgi/users/home\">Login</a> </td>\\n      <td align=\"right\" style=\"white-space: nowrap\">\\n        <form method=\"get\" accept-charset=\"utf-8\" action=\"https://authors.library.caltech.edu/cgi/search\" style=\"display:inline\">\\n          <input class=\"ep_tm_searchbarbox\" accept-charset=\"utf-8\" size=\"20\" type=\"text\" name=\"q\" />\\n          <input class=\"ep_tm_searchbarbutton\" value=\"Search\" type=\"submit\" name=\"_action_search\" />\\n          <input type=\"hidden\" name=\"_order\" value=\"bytitle\" />\\n          <input type=\"hidden\" name=\"basic_srchtype\" value=\"ALL\" />\\n          <input type=\"hidden\" name=\"_satisfyall\" value=\"ALL\" />\\n        </form>\\n      </td>\\n    </tr>\\n  </table>\\n</div>\\n\\n\\n<div align=\"center\">\\n  \\n  <table width=\"720\" class=\"ep_tm_main\"><tr><td align=\"left\">\\n    <h1 class=\"ep_tm_pagetitle\">\\n\\nTwo spectrograph control displays for the W. M. Keck Telescope\\n\\n</h1>\\n    <div class=\"ep_summary_content\"><div class=\"ep_summary_content_left\"></div><div class=\"ep_summary_content_right\"></div><div class=\"ep_summary_content_top\"></div><div class=\"ep_summary_content_main\"><p class=\"ep_block\" style=\"margin-bottom: 1em\">\\n\\n\\n    <span class=\"person_name\">Conrad, Al</span> and <span class=\"person_name\">Kibrick, Bob</span> and <span class=\"person_name\">Cromer, John</span>\\n  \\n\\n(1994) \\n\\n<em>Two spectrograph control displays for the W. M. Keck Telescope.</em>\\n\\n\\n    \\n      In:  \\n      Instrumentation in Astronomy VIII.\\n    \\n\\n    Proceedings of SPIE.\\n    \\n     No.2198.\\n\\n    Society of Photo-Optical Instrumentation Engineers (SPIE)\\n    , Bellingham, WA, pp. 1151-1157.\\n     ISBN 081941493X.\\n    \\n  \\n\\n\\n  \\n\\n\\n<a href=\"https://resolver.caltech.edu/CaltechAUTHORS:20170920-085447816\">https://resolver.caltech.edu/CaltechAUTHORS:20170920-085447816</a>\\n\\n \\n</p><p class=\"ep_block\" style=\"margin-bottom: 1em\"></p><table class=\"ep_block\" style=\"margin-bottom: 1em\"><tr><td valign=\"top\" style=\"text-align:center\"><a class=\"ep_document_link\" href=\"https://authors.library.caltech.edu/81607/1/1151_1.pdf\"><img class=\"ep_doc_icon\" alt=\"[img]\" src=\"https://authors.library.caltech.edu/style/images/fileicons/application_pdf.png\" border=\"0\" /></a></td><td valign=\"top\">\\n\\n<!-- document citation -->\\n\\n\\n<span class=\"ep_document_citation\">\\n<a class=\"ep_document_link\" href=\"https://authors.library.caltech.edu/81607/1/1151_1.pdf\">PDF</a>\\n - Published Version\\n\\n\\n<!-- Removed phrase \"Available under License\" per K. Douglas, 4/10/2009 (bc)  -->\\n  <br />See Usage Policy.\\n\\n</span>\\n\\n<br />426kB</td></tr></table><p class=\"ep_block\" style=\"margin-bottom: 1em\">Use this Persistent URL to link to this item: <a href=\"https://resolver.caltech.edu/CaltechAUTHORS:20170920-085447816\">https://resolver.caltech.edu/CaltechAUTHORS:20170920-085447816</a></p><div class=\"ep_block\"><h2>Abstract</h2><p style=\"text-align: left; margin: 1em auto 0em auto\">We analyze the look and feel of each display and discuss its software design. Developed using the Motif Toolkit, each display runs on an X windows work station. In the area of look and feel, we discuss the pros and cons of graphically depicting the instrument light path. In the area of software design, we discuss Motif and Xlib programming techniques.</p></div><br /><table class=\"ep_block\" style=\"margin-bottom: 1em\" border=\"0\" cellpadding=\"3\"><tr><th valign=\"top\" class=\"ep_row\">Item Type:</th><td valign=\"top\" class=\"ep_row\">Book Section</td></tr><tr><th valign=\"top\" class=\"ep_row\"><a name=\"related\"></a>Related URLs:</th><td valign=\"top\" class=\"ep_row\"><table border=\"1\" cellspacing=\"0\" cellpadding=\"2\"><tr><th>URL</th><th>URL Type</th><th>Description</th></tr><tr><td><a href=\"http://dx.doi.org/10.1117/12.176699\">http://dx.doi.org/10.1117/12.176699</a></td><td>DOI</td><td>Article</td></tr><tr><td><a href=\"https://www.spiedigitallibrary.org/conference-proceedings-of-spie/2198/0000/Two-spectrograph-control-displays-for-the-WM-Keck-Telescope/10.1117/12.176699.full\">https://www.spiedigitallibrary.org/conference-proceedings-of-spie/2198/0000/Two-spectrograph-control-displays-for-the-WM-Keck-Telescope/10.1117/12.176699.full</a></td><td>Author</td><td>Article</td></tr></table></td></tr><tr><th valign=\"top\" class=\"ep_row\">ORCID:</th><td valign=\"top\" class=\"ep_row\"><table border=\"1\" cellspacing=\"0\" cellpadding=\"4\"><tr><th>Author</th><th>ORCID</th></tr><tr><td>Conrad, Al</td><td><a href=\"http://orcid.org/0000-0003-2872-0061\">0000-0003-2872-0061</a></td></tr></table></td></tr><tr><th valign=\"top\" class=\"ep_row\">Additional Information:</th><td valign=\"top\" class=\"ep_row\">© 1994 Society of Photo-Optical Instrumentation Engineers (SPIE). &#13;\\n&#13;\\n1 June 1994. &#13;\\n&#13;\\nWe thank Steve Vogt and Judy Cohen for providing the specifications for xhires and xlris (respectively). We also thank Dean Tucker for developing the high resolution echelle spectrograph motor control software. Finally, we thank Julie Barreto for proofreading early drafts of the document. &#13;\\n&#13;\\nThe W.M. Keck Observatory is operated as a scientific partnership between the California Institute of Technology and the University of California. The observatory was made possible by the generous financial support of the W.M. Keck Foundation.</td></tr><tr><th valign=\"top\" class=\"ep_row\">Funders:</th><td valign=\"top\" class=\"ep_row\"><table border=\"1\" cellspacing=\"0\" cellpadding=\"2\"><tr><th>Funding Agency</th><th>Grant Number</th></tr><tr><td>W. M. Keck Foundation</td><td>UNSPECIFIED</td></tr></table></td></tr><tr><th valign=\"top\" class=\"ep_row\">Series Name:</th><td valign=\"top\" class=\"ep_row\">Proceedings of SPIE</td></tr><tr><th valign=\"top\" class=\"ep_row\">Issue or Number:</th><td valign=\"top\" class=\"ep_row\">2198</td></tr><tr><th valign=\"top\" class=\"ep_row\">Record Number:</th><td valign=\"top\" class=\"ep_row\">CaltechAUTHORS:20170920-085447816</td></tr><tr><th valign=\"top\" class=\"ep_row\">Persistent URL:</th><td valign=\"top\" class=\"ep_row\"><a href=\"https://resolver.caltech.edu/CaltechAUTHORS:20170920-085447816\">https://resolver.caltech.edu/CaltechAUTHORS:20170920-085447816</a></td></tr><tr><th valign=\"top\" class=\"ep_row\">Official Citation:</th><td valign=\"top\" class=\"ep_row\">Albert Conrad, Robert I. Kibrick, John Cromer, \"Two spectrograph control displays for the W.M. Keck Telescope\", Proc. SPIE 2198, Instrumentation in Astronomy VIII, (1 June 1994); doi: http://dx.doi.org/10.1117/12.176699</td></tr><tr><th valign=\"top\" class=\"ep_row\">Usage Policy:</th><td valign=\"top\" class=\"ep_row\">No commercial reproduction, distribution, display or performance rights in this work are provided.</td></tr><tr><th valign=\"top\" class=\"ep_row\">ID Code:</th><td valign=\"top\" class=\"ep_row\">81607</td></tr><tr><th valign=\"top\" class=\"ep_row\">Collection:</th><td valign=\"top\" class=\"ep_row\">CaltechAUTHORS</td></tr><tr><th valign=\"top\" class=\"ep_row\">Deposited By:</th><td valign=\"top\" class=\"ep_row\">\\n      \\n\\n<span class=\"ep_name_citation\"><span class=\"person_name\">Ruth Sustaita</span></span>\\n\\n\\n</td></tr><tr><th valign=\"top\" class=\"ep_row\">Deposited On:</th><td valign=\"top\" class=\"ep_row\">20 Sep 2017 19:09</td></tr><tr><th valign=\"top\" class=\"ep_row\">Last Modified:</th><td valign=\"top\" class=\"ep_row\">09 Mar 2020 13:18</td></tr></table><script type=\"text/javascript\" src=\"//d39af2mgp1pqhg.cloudfront.net/widget-details.js\">// <!-- No script --></script><a href=\"https://plu.mx/caltech/a?repo_url=http://authors.library.caltech.edu/id/eprint/81607\" class=\"plumx-details\" data-hide-when-empty=\"true\" data-width=\"120%\" data-site=\"caltech\"></a><p align=\"right\">Repository Staff Only: <a href=\"https://authors.library.caltech.edu/cgi/users/home?screen=EPrint::View&amp;eprintid=81607\">item control page</a></p></div><div class=\"ep_summary_content_bottom\"></div><div class=\"ep_summary_content_after\"></div></div>\\n  </td></tr></table>\\n</div>\\n\\n\\n<div class=\"ep_tm_footer ep_noprint\">\\n  <hr noshade=\"noshade\" class=\"ep_ruler\" />\\n  <hr class=\"ep_tm_last\" />\\n  <div style=\"float: right; margin-left: 1em\"><a href=\"https://eprints.org/software/\"><img src=\"/images/eprintslogo.gif\" border=\"0\" /></a></div>\\n  <div style=\"font-size: 80%;\">\\n    <div>CaltechAUTHORS is powered by <em><a href=\"https://eprints.org/software/\">EPrints 3.3</a></em> which is developed by the <a href=\"https://www.ecs.soton.ac.uk/\">School of Electronics and Computer Science</a> at the University of Southampton. <a href=\"/eprints/\">More information and software credits</a>.</div>\\n  </div>\\n</div>\\n\\n\\n  </body>\\n</html>'"
            ]
          },
          "metadata": {},
          "execution_count": 16
        }
      ]
    },
    {
      "cell_type": "code",
      "metadata": {
        "colab": {
          "base_uri": "https://localhost:8080/"
        },
        "id": "cmbnAYIJvPgZ",
        "outputId": "426a50b5-7356-4689-b39d-d2aa3f639b14"
      },
      "source": [
        "from bs4 import BeautifulSoup\n",
        "soup = BeautifulSoup(page, 'html.parser')\n",
        "soup"
      ],
      "execution_count": null,
      "outputs": [
        {
          "output_type": "execute_result",
          "data": {
            "text/plain": [
              "<!DOCTYPE html PUBLIC \"-//W3C//DTD XHTML 1.0 Transitional//EN\" \"http://www.w3.org/TR/xhtml1/DTD/xhtml1-transitional.dtd\">\n",
              "\n",
              "<html xmlns=\"http://www.w3.org/1999/xhtml\">\n",
              "<head>\n",
              "<meta content=\"S9ahhSTJNJrGXH8CLzN9O29lYE5sbaFyCLkdCXHU24U\" name=\"google-site-verification\"/>\n",
              "<title> Two spectrograph control displays for the W. M. Keck Telescope  - CaltechAUTHORS</title>\n",
              "<script src=\"https://authors.library.caltech.edu/javascript/auto.js\" type=\"text/javascript\"><!-- nope --></script>\n",
              "<style media=\"screen\" type=\"text/css\">@import url(https://authors.library.caltech.edu/style/auto.css);</style>\n",
              "<style media=\"print\" type=\"text/css\">@import url(https://authors.library.caltech.edu/style/print.css);</style>\n",
              "<link href=\"/favicon.ico\" rel=\"icon\" type=\"image/x-icon\"/>\n",
              "<link href=\"/favicon.ico\" rel=\"shortcut icon\" type=\"image/x-icon\"/>\n",
              "<link href=\"https://authors.library.caltech.edu/\" rel=\"Top\"/>\n",
              "<link href=\"https://authors.library.caltech.edu/cgi/search\" rel=\"Search\"/>\n",
              "<meta content=\"81607\" name=\"eprints.eprintid\"/>\n",
              "<meta content=\"10\" name=\"eprints.rev_number\"/>\n",
              "<meta content=\"archive\" name=\"eprints.eprint_status\"/>\n",
              "<meta content=\"772\" name=\"eprints.userid\"/>\n",
              "<meta content=\"disk0/00/08/16/07\" name=\"eprints.dir\"/>\n",
              "<meta content=\"2017-09-20 19:09:28\" name=\"eprints.datestamp\"/>\n",
              "<meta content=\"2020-03-09 13:18:00\" name=\"eprints.lastmod\"/>\n",
              "<meta content=\"2017-09-20 19:09:28\" name=\"eprints.status_changed\"/>\n",
              "<meta content=\"book_section\" name=\"eprints.type\"/>\n",
              "<meta content=\"show\" name=\"eprints.metadata_visibility\"/>\n",
              "<meta content=\"Conrad, Al\" name=\"eprints.creators_name\"/>\n",
              "<meta content=\"Kibrick, Bob\" name=\"eprints.creators_name\"/>\n",
              "<meta content=\"Cromer, John\" name=\"eprints.creators_name\"/>\n",
              "<meta content=\"Conrad-A\" name=\"eprints.creators_id\"/>\n",
              "<meta content=\"Kibrick-B\" name=\"eprints.creators_id\"/>\n",
              "<meta content=\"Cromer-J-L\" name=\"eprints.creators_id\"/>\n",
              "<meta content=\"0000-0003-2872-0061\" name=\"eprints.creators_orcid\"/>\n",
              "<meta content=\"Two spectrograph control displays for the W. M. Keck Telescope\" name=\"eprints.title\"/>\n",
              "<meta content=\"pub\" name=\"eprints.ispublished\"/>\n",
              "<meta content=\"public\" name=\"eprints.full_text_status\"/>\n",
              "<meta content=\"© 1994 Society of Photo-Optical Instrumentation Engineers (SPIE). \n",
              "\n",
              "1 June 1994. \n",
              "\n",
              "We thank Steve Vogt and Judy Cohen for providing the specifications for xhires and xlris (respectively). We also thank Dean Tucker for developing the high resolution echelle spectrograph motor control software. Finally, we thank Julie Barreto for proofreading early drafts of the document. \n",
              "\n",
              "The W.M. Keck Observatory is operated as a scientific partnership between the California Institute of Technology and the University of California. The observatory was made possible by the generous financial support of the W.M. Keck Foundation.\" name=\"eprints.note\"/>\n",
              "<meta content=\"We analyze the look and feel of each display and discuss its software design. Developed using the Motif Toolkit, each display runs on an X windows work station. In the area of look and feel, we discuss the pros and cons of graphically depicting the instrument light path. In the area of software design, we discuss Motif and Xlib programming techniques.\" name=\"eprints.abstract\"/>\n",
              "<meta content=\"1994-06-01\" name=\"eprints.date\"/>\n",
              "<meta content=\"published\" name=\"eprints.date_type\"/>\n",
              "<meta content=\"Proceedings of SPIE\" name=\"eprints.series\"/>\n",
              "<meta content=\"2198\" name=\"eprints.number\"/>\n",
              "<meta content=\"Society of Photo-Optical Instrumentation Engineers (SPIE)\" name=\"eprints.publisher\"/>\n",
              "<meta content=\"Bellingham, WA\" name=\"eprints.place_of_pub\"/>\n",
              "<meta content=\"1151-1157\" name=\"eprints.pagerange\"/>\n",
              "<meta content=\"Instrumentation in Astronomy VIII\" name=\"eprints.event_title\"/>\n",
              "<meta content=\"Kailua, HI\" name=\"eprints.event_location\"/>\n",
              "<meta content=\"March 13-14, 1994\" name=\"eprints.event_dates\"/>\n",
              "<meta content=\"conference\" name=\"eprints.event_type\"/>\n",
              "<meta content=\"CaltechAUTHORS:20170920-085447816\" name=\"eprints.id_number\"/>\n",
              "<meta content=\"TRUE\" name=\"eprints.refereed\"/>\n",
              "<meta content=\"081941493X\" name=\"eprints.isbn\"/>\n",
              "<meta content=\"0277786X\" name=\"eprints.issn\"/>\n",
              "<meta content=\"Instrumentation in Astronomy VIII\" name=\"eprints.book_title\"/>\n",
              "<meta content=\"Crawford, David L.\" name=\"eprints.editors_name\"/>\n",
              "<meta content=\"Craine, Eric R.\" name=\"eprints.editors_name\"/>\n",
              "<meta content=\"Crawford-D-L\" name=\"eprints.editors_id\"/>\n",
              "<meta content=\"Craine-E-R\" name=\"eprints.editors_id\"/>\n",
              "<meta content=\"https://resolver.caltech.edu/CaltechAUTHORS:20170920-085447816\" name=\"eprints.official_url\"/>\n",
              "<meta content=\"http://dx.doi.org/10.1117/12.176699\" name=\"eprints.related_url_url\"/>\n",
              "<meta content=\"https://www.spiedigitallibrary.org/conference-proceedings-of-spie/2198/0000/Two-spectrograph-control-displays-for-the-WM-Keck-Telescope/10.1117/12.176699.full\" name=\"eprints.related_url_url\"/>\n",
              "<meta content=\"doi\" name=\"eprints.related_url_type\"/>\n",
              "<meta content=\"author\" name=\"eprints.related_url_type\"/>\n",
              "<meta content=\"Article\" name=\"eprints.related_url_description\"/>\n",
              "<meta content=\"Article\" name=\"eprints.related_url_description\"/>\n",
              "<meta content='1. A. R. Conrad and W. F. Lupton, \"The Keck Keyword Layer\", AstronomicalData Analysis Software\n",
              "and Systems II, ASP Conference Series, Vol 52, 1993' name=\"eprints.referencetext\"/>\n",
              "<meta content=\"No commercial reproduction, distribution, display or performance rights in this work are provided.\" name=\"eprints.rights\"/>\n",
              "<meta content='Albert Conrad, Robert I. Kibrick, John Cromer, \"Two spectrograph control displays for the W.M. Keck Telescope\", Proc. SPIE 2198, Instrumentation in Astronomy VIII, (1 June 1994); doi: http://dx.doi.org/10.1117/12.176699' name=\"eprints.official_cit\"/>\n",
              "<meta content=\"W. M. Keck Foundation\" name=\"eprints.funders_agency\"/>\n",
              "<meta content=\"CaltechAUTHORS\" name=\"eprints.collection\"/>\n",
              "<meta content=\"George Porter\" name=\"eprints.reviewer\"/>\n",
              "<meta content=\"  Conrad, Al and Kibrick, Bob and Cromer, John  (1994)  Two spectrograph control displays for the W. M. Keck Telescope.   In:  Instrumentation in Astronomy VIII.  Proceedings of SPIE.   No.2198. Society of Photo-Optical Instrumentation Engineers (SPIE) , Bellingham, WA, pp. 1151-1157.  ISBN 081941493X.      https://resolver.caltech.edu/CaltechAUTHORS:20170920-085447816 &lt;https://resolver.caltech.edu/CaltechAUTHORS:20170920-085447816&gt;  \" name=\"eprints.citation\"/>\n",
              "<meta content=\"https://authors.library.caltech.edu/81607/1/1151_1.pdf\" name=\"eprints.document_url\"/>\n",
              "<link href=\"http://purl.org/DC/elements/1.0/\" rel=\"schema.DC\"/>\n",
              "<meta content=\"https://authors.library.caltech.edu/81607/\" name=\"DC.relation\"/>\n",
              "<meta content=\"Two spectrograph control displays for the W. M. Keck Telescope\" name=\"DC.title\"/>\n",
              "<meta content=\"Conrad, Al\" name=\"DC.creator\"/>\n",
              "<meta content=\"Kibrick, Bob\" name=\"DC.creator\"/>\n",
              "<meta content=\"Cromer, John\" name=\"DC.creator\"/>\n",
              "<meta content=\"We analyze the look and feel of each display and discuss its software design. Developed using the Motif Toolkit, each display runs on an X windows work station. In the area of look and feel, we discuss the pros and cons of graphically depicting the instrument light path. In the area of software design, we discuss Motif and Xlib programming techniques.\" name=\"DC.description\"/>\n",
              "<meta content=\"Society of Photo-Optical Instrumentation Engineers (SPIE)\" name=\"DC.publisher\"/>\n",
              "<meta content=\"Crawford, David L.\" name=\"DC.contributor\"/>\n",
              "<meta content=\"Craine, Eric R.\" name=\"DC.contributor\"/>\n",
              "<meta content=\"1994-06-01\" name=\"DC.date\"/>\n",
              "<meta content=\"Book Section\" name=\"DC.type\"/>\n",
              "<meta content=\"PeerReviewed\" name=\"DC.type\"/>\n",
              "<meta content=\"application/pdf\" name=\"DC.format\"/>\n",
              "<meta content=\"en\" name=\"DC.language\"/>\n",
              "<meta content=\"other\" name=\"DC.rights\"/>\n",
              "<meta content=\"https://authors.library.caltech.edu/81607/1/1151_1.pdf\" name=\"DC.identifier\"/>\n",
              "<meta content=\"  Conrad, Al and Kibrick, Bob and Cromer, John  (1994)  Two spectrograph control displays for the W. M. Keck Telescope.   In:  Instrumentation in Astronomy VIII.  Proceedings of SPIE.   No.2198. Society of Photo-Optical Instrumentation Engineers (SPIE) , Bellingham, WA, pp. 1151-1157.  ISBN 081941493X.      https://resolver.caltech.edu/CaltechAUTHORS:20170920-085447816 &lt;https://resolver.caltech.edu/CaltechAUTHORS:20170920-085447816&gt;  \" name=\"DC.identifier\"/>\n",
              "<meta content=\"https://resolver.caltech.edu/CaltechAUTHORS:20170920-085447816\" name=\"DC.relation\"/>\n",
              "<meta content=\"CaltechAUTHORS:20170920-085447816\" name=\"DC.relation\"/>\n",
              "<link href=\"https://authors.library.caltech.edu/cgi/export/eprint/81607/ContextObject/caltechauthors-eprint-81607.xml\" rel=\"alternate\" title=\"OpenURL ContextObject\" type=\"text/xml; charset=utf-8\"/>\n",
              "<link href=\"https://authors.library.caltech.edu/cgi/export/eprint/81607/RDFXML/caltechauthors-eprint-81607.rdf\" rel=\"alternate\" title=\"RDF+XML\" type=\"application/rdf+xml\"/>\n",
              "<link href=\"https://authors.library.caltech.edu/cgi/export/eprint/81607/Atom/caltechauthors-eprint-81607.xml\" rel=\"alternate\" title=\"Atom\" type=\"application/atom+xml;charset=utf-8\"/>\n",
              "<link href=\"https://authors.library.caltech.edu/cgi/export/eprint/81607/Simple/caltechauthors-eprint-81607.txt\" rel=\"alternate\" title=\"Simple Metadata\" type=\"text/plain; charset=utf-8\"/>\n",
              "<link href=\"https://authors.library.caltech.edu/cgi/export/eprint/81607/Text/caltechauthors-eprint-81607.txt\" rel=\"alternate\" title=\"ASCII Citation\" type=\"text/plain; charset=utf-8\"/>\n",
              "<link href=\"https://authors.library.caltech.edu/cgi/export/eprint/81607/Refer/caltechauthors-eprint-81607.refer\" rel=\"alternate\" title=\"Refer\" type=\"text/plain\"/>\n",
              "<link href=\"https://authors.library.caltech.edu/cgi/export/eprint/81607/XML/caltechauthors-eprint-81607.xml\" rel=\"alternate\" title=\"EP3 XML\" type=\"application/vnd.eprints.data+xml; charset=utf-8\"/>\n",
              "<link href=\"https://authors.library.caltech.edu/cgi/export/eprint/81607/RIS/caltechauthors-eprint-81607.ris\" rel=\"alternate\" title=\"Reference Manager\" type=\"text/plain\"/>\n",
              "<link href=\"https://authors.library.caltech.edu/cgi/export/eprint/81607/LocalEndNote/caltechauthors-eprint-81607.enw\" rel=\"alternate\" title=\"EndNote\" type=\"text/plain; charset=utf-8\"/>\n",
              "<link href=\"https://authors.library.caltech.edu/cgi/export/eprint/81607/COinS/caltechauthors-eprint-81607.txt\" rel=\"alternate\" title=\"OpenURL ContextObject in Span\" type=\"text/plain; charset=utf-8\"/>\n",
              "<link href=\"https://authors.library.caltech.edu/cgi/export/eprint/81607/LocalBibTeX/caltechauthors-eprint-81607.bib\" rel=\"alternate\" title=\"BibTeX\" type=\"text/plain\"/>\n",
              "<link href=\"https://authors.library.caltech.edu/cgi/export/eprint/81607/MODS/caltechauthors-eprint-81607.xml\" rel=\"alternate\" title=\"MODS\" type=\"text/xml; charset=utf-8\"/>\n",
              "<link href=\"https://authors.library.caltech.edu/cgi/export/eprint/81607/HTML/caltechauthors-eprint-81607.html\" rel=\"alternate\" title=\"HTML Citation\" type=\"text/html; charset=utf-8\"/>\n",
              "<link href=\"https://authors.library.caltech.edu/cgi/export/eprint/81607/CSV/caltechauthors-eprint-81607.csv\" rel=\"alternate\" title=\"Multiline CSV\" type=\"text/csv; charset=utf-8\"/>\n",
              "<link href=\"https://authors.library.caltech.edu/cgi/export/eprint/81607/RDFNT/caltechauthors-eprint-81607.nt\" rel=\"alternate\" title=\"RDF+N-Triples\" type=\"text/plain\"/>\n",
              "<link href=\"https://authors.library.caltech.edu/cgi/export/eprint/81607/DC/caltechauthors-eprint-81607.txt\" rel=\"alternate\" title=\"Dublin Core\" type=\"text/plain; charset=utf-8\"/>\n",
              "<link href=\"https://authors.library.caltech.edu/cgi/export/eprint/81607/TSV/caltechauthors-eprint-81607.tsv\" rel=\"alternate\" title=\"TSV\" type=\"text/tab-separated-values; charset=utf-8\"/>\n",
              "<link href=\"https://authors.library.caltech.edu/cgi/export/eprint/81607/RDFN3/caltechauthors-eprint-81607.n3\" rel=\"alternate\" title=\"RDF+N3\" type=\"text/n3\"/>\n",
              "<link href=\"https://authors.library.caltech.edu/cgi/export/eprint/81607/METS/caltechauthors-eprint-81607.xml\" rel=\"alternate\" title=\"METS\" type=\"text/xml; charset=utf-8\"/>\n",
              "<link href=\"https://authors.library.caltech.edu/cgi/export/eprint/81607/JSON/caltechauthors-eprint-81607.js\" rel=\"alternate\" title=\"JSON\" type=\"application/json; charset=utf-8\"/>\n",
              "<link href=\"https://authors.library.caltech.edu/cgi/export/eprint/81607/DIDL/caltechauthors-eprint-81607.xml\" rel=\"alternate\" title=\"MPEG-21 DIDL\" type=\"text/xml; charset=utf-8\"/>\n",
              "<link href=\"https://authors.library.caltech.edu/\" rel=\"Top\"/>\n",
              "<link href=\"https://authors.library.caltech.edu/sword-app/servicedocument\" rel=\"Sword\"/>\n",
              "<link href=\"https://authors.library.caltech.edu/id/contents\" rel=\"SwordDeposit\"/>\n",
              "<link href=\"http://authors.library.caltech.edu/cgi/search\" rel=\"Search\" type=\"text/html\"/>\n",
              "<link href=\"http://authors.library.caltech.edu/cgi/opensearchdescription\" rel=\"Search\" title=\"CaltechAUTHORS\" type=\"application/opensearchdescription+xml\"/>\n",
              "<script src=\"https://www.google.com/jsapi\" type=\"text/javascript\"><!--padder--></script><script type=\"text/javascript\">\n",
              "// <![CDATA[\n",
              "google.load(\"visualization\", \"1\", {packages:[\"corechart\", \"geochart\"]});\n",
              "// ]]></script><script type=\"text/javascript\">\n",
              "// <![CDATA[\n",
              "var eprints_http_root = \"https://authors.library.caltech.edu\";\n",
              "var eprints_http_cgiroot = \"https://authors.library.caltech.edu/cgi\";\n",
              "var eprints_oai_archive_id = \"authors.library.caltech.edu\";\n",
              "var eprints_logged_in = false;\n",
              "// ]]></script>\n",
              "<style type=\"text/css\">.ep_logged_in { display: none }</style>\n",
              "<link href=\"/style/auto-3.3.16.css\" rel=\"stylesheet\" type=\"text/css\"/>\n",
              "<script src=\"/javascript/auto-3.3.16.js\" type=\"text/javascript\"><!--padder--></script>\n",
              "<!--[if lte IE 6]>\n",
              "        <link rel=\"stylesheet\" type=\"text/css\" href=\"/style/ie6.css\" />\n",
              "   <![endif]-->\n",
              "<meta content=\"EPrints 3.3.16\" name=\"Generator\"/>\n",
              "<meta content=\"text/html; charset=utf-8\" http-equiv=\"Content-Type\"/>\n",
              "<meta content=\"en\" http-equiv=\"Content-Language\"/>\n",
              "</head>\n",
              "<body bgcolor=\"#ffffff\" text=\"#000000\">\n",
              "<div class=\"ep_noprint\"><noscript><style type=\"text/css\">@import url(https://authors.library.caltech.edu/style/nojs.css);</style></noscript></div>\n",
              "<div class=\"ep_tm_header ep_noprint\">\n",
              "<div class=\"ep_tm_sponsor_logo\"><a href=\"https://library.caltech.edu\"><img alt=\"CLS Logo\" src=\"/images/new_cls_logo_60.gif\"/></a></div>\n",
              "<div class=\"ep_tm_logo\"><a href=\"https://libguides.caltech.edu/CODA\"><img alt=\"CODA Logo\" src=\"/images/codalogo.jpg\"/></a></div>\n",
              "<div><a class=\"ep_tm_archivetitle\" href=\"https://authors.library.caltech.edu/\">CaltechAUTHORS</a></div>\n",
              "<div><a class=\"ep_tm_archive_subtitle\" href=\"https://library.caltech.edu\">  A Caltech Library Service</a></div>\n",
              "<ul class=\"ep_tm_menu\"><li><a href=\"https://authors.library.caltech.edu/\">Home</a></li>\n",
              "<li><a href=\"https://authors.library.caltech.edu/information.html\">About</a></li>\n",
              "<li><a href=\"https://authors.library.caltech.edu/browseviews.html\">Browse</a></li>\n",
              "<li><a href=\"https://authors.library.caltech.edu/cgi/search/simple\">Simple Search</a></li>\n",
              "<li><a href=\"https://authors.library.caltech.edu/cgi/search/advsearch\">Advanced Search</a></li>\n",
              "<li><a href=\"https://authors.library.caltech.edu/cgi/users/home\">Deposit</a></li>\n",
              "<li><a href=\"https://www.library.caltech.edu/contact\">Contact Us</a></li>\n",
              "</ul>\n",
              "<table border=\"0\" cellpadding=\"0\" cellspacing=\"0\" class=\"ep_tm_searchbar\" width=\"100%\">\n",
              "<tr>\n",
              "<td align=\"left\"><a href=\"https://authors.library.caltech.edu/cgi/users/home\">Login</a> </td>\n",
              "<td align=\"right\" style=\"white-space: nowrap\">\n",
              "<form accept-charset=\"utf-8\" action=\"https://authors.library.caltech.edu/cgi/search\" method=\"get\" style=\"display:inline\">\n",
              "<input accept-charset=\"utf-8\" class=\"ep_tm_searchbarbox\" name=\"q\" size=\"20\" type=\"text\"/>\n",
              "<input class=\"ep_tm_searchbarbutton\" name=\"_action_search\" type=\"submit\" value=\"Search\"/>\n",
              "<input name=\"_order\" type=\"hidden\" value=\"bytitle\"/>\n",
              "<input name=\"basic_srchtype\" type=\"hidden\" value=\"ALL\"/>\n",
              "<input name=\"_satisfyall\" type=\"hidden\" value=\"ALL\"/>\n",
              "</form>\n",
              "</td>\n",
              "</tr>\n",
              "</table>\n",
              "</div>\n",
              "<div align=\"center\">\n",
              "<table class=\"ep_tm_main\" width=\"720\"><tr><td align=\"left\">\n",
              "<h1 class=\"ep_tm_pagetitle\">\n",
              "\n",
              "Two spectrograph control displays for the W. M. Keck Telescope\n",
              "\n",
              "</h1>\n",
              "<div class=\"ep_summary_content\"><div class=\"ep_summary_content_left\"></div><div class=\"ep_summary_content_right\"></div><div class=\"ep_summary_content_top\"></div><div class=\"ep_summary_content_main\"><p class=\"ep_block\" style=\"margin-bottom: 1em\">\n",
              "<span class=\"person_name\">Conrad, Al</span> and <span class=\"person_name\">Kibrick, Bob</span> and <span class=\"person_name\">Cromer, John</span>\n",
              "  \n",
              "\n",
              "(1994) \n",
              "\n",
              "<em>Two spectrograph control displays for the W. M. Keck Telescope.</em>\n",
              "\n",
              "\n",
              "    \n",
              "      In:  \n",
              "      Instrumentation in Astronomy VIII.\n",
              "    \n",
              "\n",
              "    Proceedings of SPIE.\n",
              "    \n",
              "     No.2198.\n",
              "\n",
              "    Society of Photo-Optical Instrumentation Engineers (SPIE)\n",
              "    , Bellingham, WA, pp. 1151-1157.\n",
              "     ISBN 081941493X.\n",
              "    \n",
              "  \n",
              "\n",
              "\n",
              "  \n",
              "\n",
              "\n",
              "<a href=\"https://resolver.caltech.edu/CaltechAUTHORS:20170920-085447816\">https://resolver.caltech.edu/CaltechAUTHORS:20170920-085447816</a>\n",
              "</p><p class=\"ep_block\" style=\"margin-bottom: 1em\"></p><table class=\"ep_block\" style=\"margin-bottom: 1em\"><tr><td style=\"text-align:center\" valign=\"top\"><a class=\"ep_document_link\" href=\"https://authors.library.caltech.edu/81607/1/1151_1.pdf\"><img alt=\"[img]\" border=\"0\" class=\"ep_doc_icon\" src=\"https://authors.library.caltech.edu/style/images/fileicons/application_pdf.png\"/></a></td><td valign=\"top\">\n",
              "<!-- document citation -->\n",
              "<span class=\"ep_document_citation\">\n",
              "<a class=\"ep_document_link\" href=\"https://authors.library.caltech.edu/81607/1/1151_1.pdf\">PDF</a>\n",
              " - Published Version\n",
              "\n",
              "\n",
              "<!-- Removed phrase \"Available under License\" per K. Douglas, 4/10/2009 (bc)  -->\n",
              "<br/>See Usage Policy.\n",
              "\n",
              "</span>\n",
              "<br/>426kB</td></tr></table><p class=\"ep_block\" style=\"margin-bottom: 1em\">Use this Persistent URL to link to this item: <a href=\"https://resolver.caltech.edu/CaltechAUTHORS:20170920-085447816\">https://resolver.caltech.edu/CaltechAUTHORS:20170920-085447816</a></p><div class=\"ep_block\"><h2>Abstract</h2><p style=\"text-align: left; margin: 1em auto 0em auto\">We analyze the look and feel of each display and discuss its software design. Developed using the Motif Toolkit, each display runs on an X windows work station. In the area of look and feel, we discuss the pros and cons of graphically depicting the instrument light path. In the area of software design, we discuss Motif and Xlib programming techniques.</p></div><br/><table border=\"0\" cellpadding=\"3\" class=\"ep_block\" style=\"margin-bottom: 1em\"><tr><th class=\"ep_row\" valign=\"top\">Item Type:</th><td class=\"ep_row\" valign=\"top\">Book Section</td></tr><tr><th class=\"ep_row\" valign=\"top\"><a name=\"related\"></a>Related URLs:</th><td class=\"ep_row\" valign=\"top\"><table border=\"1\" cellpadding=\"2\" cellspacing=\"0\"><tr><th>URL</th><th>URL Type</th><th>Description</th></tr><tr><td><a href=\"http://dx.doi.org/10.1117/12.176699\">http://dx.doi.org/10.1117/12.176699</a></td><td>DOI</td><td>Article</td></tr><tr><td><a href=\"https://www.spiedigitallibrary.org/conference-proceedings-of-spie/2198/0000/Two-spectrograph-control-displays-for-the-WM-Keck-Telescope/10.1117/12.176699.full\">https://www.spiedigitallibrary.org/conference-proceedings-of-spie/2198/0000/Two-spectrograph-control-displays-for-the-WM-Keck-Telescope/10.1117/12.176699.full</a></td><td>Author</td><td>Article</td></tr></table></td></tr><tr><th class=\"ep_row\" valign=\"top\">ORCID:</th><td class=\"ep_row\" valign=\"top\"><table border=\"1\" cellpadding=\"4\" cellspacing=\"0\"><tr><th>Author</th><th>ORCID</th></tr><tr><td>Conrad, Al</td><td><a href=\"http://orcid.org/0000-0003-2872-0061\">0000-0003-2872-0061</a></td></tr></table></td></tr><tr><th class=\"ep_row\" valign=\"top\">Additional Information:</th><td class=\"ep_row\" valign=\"top\">© 1994 Society of Photo-Optical Instrumentation Engineers (SPIE). \n",
              "\n",
              "1 June 1994. \n",
              "\n",
              "We thank Steve Vogt and Judy Cohen for providing the specifications for xhires and xlris (respectively). We also thank Dean Tucker for developing the high resolution echelle spectrograph motor control software. Finally, we thank Julie Barreto for proofreading early drafts of the document. \n",
              "\n",
              "The W.M. Keck Observatory is operated as a scientific partnership between the California Institute of Technology and the University of California. The observatory was made possible by the generous financial support of the W.M. Keck Foundation.</td></tr><tr><th class=\"ep_row\" valign=\"top\">Funders:</th><td class=\"ep_row\" valign=\"top\"><table border=\"1\" cellpadding=\"2\" cellspacing=\"0\"><tr><th>Funding Agency</th><th>Grant Number</th></tr><tr><td>W. M. Keck Foundation</td><td>UNSPECIFIED</td></tr></table></td></tr><tr><th class=\"ep_row\" valign=\"top\">Series Name:</th><td class=\"ep_row\" valign=\"top\">Proceedings of SPIE</td></tr><tr><th class=\"ep_row\" valign=\"top\">Issue or Number:</th><td class=\"ep_row\" valign=\"top\">2198</td></tr><tr><th class=\"ep_row\" valign=\"top\">Record Number:</th><td class=\"ep_row\" valign=\"top\">CaltechAUTHORS:20170920-085447816</td></tr><tr><th class=\"ep_row\" valign=\"top\">Persistent URL:</th><td class=\"ep_row\" valign=\"top\"><a href=\"https://resolver.caltech.edu/CaltechAUTHORS:20170920-085447816\">https://resolver.caltech.edu/CaltechAUTHORS:20170920-085447816</a></td></tr><tr><th class=\"ep_row\" valign=\"top\">Official Citation:</th><td class=\"ep_row\" valign=\"top\">Albert Conrad, Robert I. Kibrick, John Cromer, \"Two spectrograph control displays for the W.M. Keck Telescope\", Proc. SPIE 2198, Instrumentation in Astronomy VIII, (1 June 1994); doi: http://dx.doi.org/10.1117/12.176699</td></tr><tr><th class=\"ep_row\" valign=\"top\">Usage Policy:</th><td class=\"ep_row\" valign=\"top\">No commercial reproduction, distribution, display or performance rights in this work are provided.</td></tr><tr><th class=\"ep_row\" valign=\"top\">ID Code:</th><td class=\"ep_row\" valign=\"top\">81607</td></tr><tr><th class=\"ep_row\" valign=\"top\">Collection:</th><td class=\"ep_row\" valign=\"top\">CaltechAUTHORS</td></tr><tr><th class=\"ep_row\" valign=\"top\">Deposited By:</th><td class=\"ep_row\" valign=\"top\">\n",
              "<span class=\"ep_name_citation\"><span class=\"person_name\">Ruth Sustaita</span></span>\n",
              "</td></tr><tr><th class=\"ep_row\" valign=\"top\">Deposited On:</th><td class=\"ep_row\" valign=\"top\">20 Sep 2017 19:09</td></tr><tr><th class=\"ep_row\" valign=\"top\">Last Modified:</th><td class=\"ep_row\" valign=\"top\">09 Mar 2020 13:18</td></tr></table><script src=\"//d39af2mgp1pqhg.cloudfront.net/widget-details.js\" type=\"text/javascript\">// <!-- No script --></script><a class=\"plumx-details\" data-hide-when-empty=\"true\" data-site=\"caltech\" data-width=\"120%\" href=\"https://plu.mx/caltech/a?repo_url=http://authors.library.caltech.edu/id/eprint/81607\"></a><p align=\"right\">Repository Staff Only: <a href=\"https://authors.library.caltech.edu/cgi/users/home?screen=EPrint::View&amp;eprintid=81607\">item control page</a></p></div><div class=\"ep_summary_content_bottom\"></div><div class=\"ep_summary_content_after\"></div></div>\n",
              "</td></tr></table>\n",
              "</div>\n",
              "<div class=\"ep_tm_footer ep_noprint\">\n",
              "<hr class=\"ep_ruler\" noshade=\"noshade\"/>\n",
              "<hr class=\"ep_tm_last\"/>\n",
              "<div style=\"float: right; margin-left: 1em\"><a href=\"https://eprints.org/software/\"><img border=\"0\" src=\"/images/eprintslogo.gif\"/></a></div>\n",
              "<div style=\"font-size: 80%;\">\n",
              "<div>CaltechAUTHORS is powered by <em><a href=\"https://eprints.org/software/\">EPrints 3.3</a></em> which is developed by the <a href=\"https://www.ecs.soton.ac.uk/\">School of Electronics and Computer Science</a> at the University of Southampton. <a href=\"/eprints/\">More information and software credits</a>.</div>\n",
              "</div>\n",
              "</div>\n",
              "</body>\n",
              "</html>"
            ]
          },
          "metadata": {},
          "execution_count": 17
        }
      ]
    },
    {
      "cell_type": "code",
      "metadata": {
        "colab": {
          "base_uri": "https://localhost:8080/"
        },
        "id": "TjlBm3cBvurP",
        "outputId": "96dc0993-460b-4efd-83ce-4beae03e771a"
      },
      "source": [
        "type(soup)"
      ],
      "execution_count": null,
      "outputs": [
        {
          "output_type": "execute_result",
          "data": {
            "text/plain": [
              "bs4.BeautifulSoup"
            ]
          },
          "metadata": {},
          "execution_count": 18
        }
      ]
    },
    {
      "cell_type": "code",
      "metadata": {
        "id": "I0ANzinnvySZ"
      },
      "source": [
        "links = soup.find_all(class_ = \"ep_document_link\")"
      ],
      "execution_count": null,
      "outputs": []
    },
    {
      "cell_type": "code",
      "metadata": {
        "colab": {
          "base_uri": "https://localhost:8080/"
        },
        "id": "94wf1nbEw2Gc",
        "outputId": "a361b28b-735a-415e-b949-31d98d13e754"
      },
      "source": [
        "links"
      ],
      "execution_count": null,
      "outputs": [
        {
          "output_type": "execute_result",
          "data": {
            "text/plain": [
              "[<a class=\"ep_document_link\" href=\"https://authors.library.caltech.edu/81607/1/1151_1.pdf\"><img alt=\"[img]\" border=\"0\" class=\"ep_doc_icon\" src=\"https://authors.library.caltech.edu/style/images/fileicons/application_pdf.png\"/></a>,\n",
              " <a class=\"ep_document_link\" href=\"https://authors.library.caltech.edu/81607/1/1151_1.pdf\">PDF</a>]"
            ]
          },
          "metadata": {},
          "execution_count": 20
        }
      ]
    },
    {
      "cell_type": "code",
      "metadata": {
        "colab": {
          "base_uri": "https://localhost:8080/"
        },
        "id": "KdgCLbYMw7MR",
        "outputId": "3f36945c-5e9c-495b-b9b0-2f12bb937c5c"
      },
      "source": [
        "len(links)"
      ],
      "execution_count": null,
      "outputs": [
        {
          "output_type": "execute_result",
          "data": {
            "text/plain": [
              "2"
            ]
          },
          "metadata": {},
          "execution_count": 21
        }
      ]
    },
    {
      "cell_type": "code",
      "metadata": {
        "colab": {
          "base_uri": "https://localhost:8080/",
          "height": 35
        },
        "id": "CZIGwz7nyBi_",
        "outputId": "ee21f1b3-54e5-4cfa-eb6a-241789e42cb0"
      },
      "source": [
        "str(links[0]).split('href=\"')[1].split('\"')[0].strip()"
      ],
      "execution_count": null,
      "outputs": [
        {
          "output_type": "execute_result",
          "data": {
            "application/vnd.google.colaboratory.intrinsic+json": {
              "type": "string"
            },
            "text/plain": [
              "'https://authors.library.caltech.edu/81607/1/1151_1.pdf'"
            ]
          },
          "metadata": {},
          "execution_count": 22
        }
      ]
    },
    {
      "cell_type": "code",
      "metadata": {
        "id": "zRS6YKn0yE3G"
      },
      "source": [
        "import requests\n",
        "from bs4 import BeautifulSoup\n",
        "import time\n",
        "\n",
        "content_urls = set()\n",
        "\n",
        "for url in authors_sample_urls:\n",
        "  page = requests.get(url).text\n",
        "  time.sleep(1)\n",
        "  soup = BeautifulSoup(page, 'html.parser')\n",
        "  links = soup.find_all(class_ = \"ep_document_link\")\n",
        "  for link in links:\n",
        "    content_url = str(links[0]).split('href=\"')[1].split('\"')[0].strip()\n",
        "    if content_url[-4:] == '.pdf':\n",
        "      content_urls.add(content_url)"
      ],
      "execution_count": null,
      "outputs": []
    },
    {
      "cell_type": "code",
      "metadata": {
        "colab": {
          "base_uri": "https://localhost:8080/"
        },
        "id": "c6tV0_5Yz39Z",
        "outputId": "a9c669aa-b869-4655-d8a8-7eb3d3149aed"
      },
      "source": [
        "len(content_urls)"
      ],
      "execution_count": null,
      "outputs": [
        {
          "output_type": "execute_result",
          "data": {
            "text/plain": [
              "74"
            ]
          },
          "metadata": {},
          "execution_count": 24
        }
      ]
    },
    {
      "cell_type": "code",
      "metadata": {
        "id": "L7GhxJHI0YEg"
      },
      "source": [
        "content_urls = list(content_urls)"
      ],
      "execution_count": null,
      "outputs": []
    },
    {
      "cell_type": "code",
      "metadata": {
        "colab": {
          "base_uri": "https://localhost:8080/"
        },
        "id": "uHwiNPx0156O",
        "outputId": "477ba67d-291e-4f4c-9b81-e5e4e33fb9fb"
      },
      "source": [
        "content_urls"
      ],
      "execution_count": null,
      "outputs": [
        {
          "output_type": "execute_result",
          "data": {
            "text/plain": [
              "['https://authors.library.caltech.edu/2263/1/HILmcb85.pdf',\n",
              " 'https://authors.library.caltech.edu/14587/1/Grosberg2009p719J_Theor_Biol.pdf',\n",
              " 'https://authors.library.caltech.edu/69123/1/Housner_1973p43.pdf',\n",
              " 'https://authors.library.caltech.edu/64721/1/1009.4913.pdf',\n",
              " 'https://authors.library.caltech.edu/70353/1/hh0622.pdf',\n",
              " 'https://authors.library.caltech.edu/34000/1/1983ApJ___264L__69B.pdf',\n",
              " 'https://authors.library.caltech.edu/93116/1/81.pdf',\n",
              " 'https://authors.library.caltech.edu/95326/2/z503830_s.pdf',\n",
              " 'https://authors.library.caltech.edu/71178/1/MNRASSmith%2CMWLetal.pdf',\n",
              " 'https://authors.library.caltech.edu/96812/2/9811256.pdf',\n",
              " 'https://authors.library.caltech.edu/72544/1/990920.pdf',\n",
              " 'https://authors.library.caltech.edu/11701/1/WALaj08.pdf',\n",
              " 'https://authors.library.caltech.edu/37161/1/0004-637X_490_1_368.pdf',\n",
              " 'https://authors.library.caltech.edu/46111/1/jgre20195.pdf',\n",
              " 'https://authors.library.caltech.edu/47727/1/117.full.pdf',\n",
              " 'https://authors.library.caltech.edu/69600/1/JBO_17_11_116019.pdf',\n",
              " 'https://authors.library.caltech.edu/27874/1/SCHIdev01.pdf',\n",
              " 'https://authors.library.caltech.edu/30322/1/417.full.pdf',\n",
              " 'https://authors.library.caltech.edu/77914/1/Sato_2017_J._Phys.%253A_Conf._Ser._840_012010.pdf',\n",
              " 'https://authors.library.caltech.edu/40489/1/141.pdf',\n",
              " 'https://authors.library.caltech.edu/45832/1/0004-637X_782_2_115.pdf',\n",
              " 'https://authors.library.caltech.edu/36011/1/0004-637X_759_1_29.pdf',\n",
              " 'https://authors.library.caltech.edu/94965/2/1612.02126.pdf',\n",
              " 'https://authors.library.caltech.edu/74924/1/661.full.pdf',\n",
              " 'https://authors.library.caltech.edu/35694/1/95JB00244.pdf',\n",
              " 'https://authors.library.caltech.edu/15934/1/Travouillon2009p4545Publ_Astron_Soc_Pac.pdf',\n",
              " 'https://authors.library.caltech.edu/86851/3/nihms502309.pdf',\n",
              " 'https://authors.library.caltech.edu/15606/1/Kim2009p4751J_Mater_Sci.pdf',\n",
              " 'https://authors.library.caltech.edu/71578/1/78860M_1.pdf',\n",
              " 'https://authors.library.caltech.edu/102614/1/Bouma_2020_ApJL_893_L29.pdf',\n",
              " 'https://authors.library.caltech.edu/95340/1/Rana_2019_ApJ_876_104.pdf',\n",
              " 'https://authors.library.caltech.edu/110209/2/ol0c02038_si_001.pdf',\n",
              " 'https://authors.library.caltech.edu/90841/1/70122G.pdf',\n",
              " 'https://authors.library.caltech.edu/1968/1/GUIpra00.pdf',\n",
              " 'https://authors.library.caltech.edu/2001/1/PRAapl83.pdf',\n",
              " 'https://authors.library.caltech.edu/7339/1/EFFisit04.pdf',\n",
              " 'https://authors.library.caltech.edu/79861/1/sswp1118.pdf',\n",
              " 'https://authors.library.caltech.edu/96745/1/1903.07409.pdf',\n",
              " 'https://authors.library.caltech.edu/47613/1/perona_delvecchioAuto03.pdf',\n",
              " 'https://authors.library.caltech.edu/38813/1/Lohman_2002.pdf',\n",
              " 'https://authors.library.caltech.edu/38645/1/ggge20015.pdf',\n",
              " 'https://authors.library.caltech.edu/97172/1/PhysRevD.100.024032.pdf',\n",
              " 'https://authors.library.caltech.edu/45672/1/jgra10957.pdf',\n",
              " 'https://authors.library.caltech.edu/93272/1/e1601814.full.pdf',\n",
              " 'https://authors.library.caltech.edu/72804/2/PhysRevLett.118.121601.pdf',\n",
              " 'https://authors.library.caltech.edu/28435/1/BERjhep99f_preprint.pdf',\n",
              " 'https://authors.library.caltech.edu/50181/6/1305.3957v4.pdf',\n",
              " 'https://authors.library.caltech.edu/70381/1/apjs_224_2_38.pdf',\n",
              " 'https://authors.library.caltech.edu/42404/1/gingles.pdf',\n",
              " 'https://authors.library.caltech.edu/81096/1/sswp720.pdf',\n",
              " 'https://authors.library.caltech.edu/16727/1/ROSaj07.pdf',\n",
              " 'https://authors.library.caltech.edu/47861/1/1003.full.pdf',\n",
              " 'https://authors.library.caltech.edu/81607/1/1151_1.pdf',\n",
              " 'https://authors.library.caltech.edu/49626/1/12127.full.pdf',\n",
              " 'https://authors.library.caltech.edu/15591/3/nihms73682.pdf',\n",
              " 'https://authors.library.caltech.edu/98201/1/9376.full.pdf',\n",
              " 'https://authors.library.caltech.edu/108561/1/Zavala_2021_ApJ_909_165.pdf',\n",
              " 'https://authors.library.caltech.edu/36695/1/1987_HagerGurnis_RG.pdf',\n",
              " 'https://authors.library.caltech.edu/88424/1/1995MNRAS_276__847L.pdf',\n",
              " 'https://authors.library.caltech.edu/20177/1/Daraio2010p11411Phys_Rev_E.pdf',\n",
              " 'https://authors.library.caltech.edu/11907/1/BONpnas63.pdf',\n",
              " 'https://authors.library.caltech.edu/55747/1/journal.pone.0112762.pdf',\n",
              " 'https://authors.library.caltech.edu/17967/1/Nakamura2010p7451Phys_Rev_D.pdf',\n",
              " 'https://authors.library.caltech.edu/6535/1/BOUprb89.pdf',\n",
              " 'https://authors.library.caltech.edu/100308/8/9013.full.pdf',\n",
              " 'https://authors.library.caltech.edu/97552/1/1985PASP___97__932S.pdf',\n",
              " 'https://authors.library.caltech.edu/93597/1/01617428.pdf',\n",
              " 'https://authors.library.caltech.edu/102577/1/1-s2.0-S2211124720302710-main.pdf',\n",
              " 'https://authors.library.caltech.edu/11624/1/COParpc89.pdf',\n",
              " 'https://authors.library.caltech.edu/14030/1/Tyler2009p23410.10880004-637X69121846.pdf',\n",
              " 'https://authors.library.caltech.edu/5427/1/BOWpr27a.pdf',\n",
              " 'https://authors.library.caltech.edu/89564/1/894318.pdf',\n",
              " 'https://authors.library.caltech.edu/12916/1/HORmnras08b.pdf',\n",
              " 'https://authors.library.caltech.edu/109624/1/1-s2.0-S0022123621002275-main.pdf']"
            ]
          },
          "metadata": {},
          "execution_count": 26
        }
      ]
    },
    {
      "cell_type": "code",
      "metadata": {
        "id": "_pljkR4z3P8J"
      },
      "source": [
        "url = content_urls[0]"
      ],
      "execution_count": null,
      "outputs": []
    },
    {
      "cell_type": "code",
      "metadata": {
        "colab": {
          "base_uri": "https://localhost:8080/",
          "height": 35
        },
        "id": "zXuVswjL3WcX",
        "outputId": "da5c83c8-34cb-4af4-c085-ef5e6f33d23f"
      },
      "source": [
        "url"
      ],
      "execution_count": null,
      "outputs": [
        {
          "output_type": "execute_result",
          "data": {
            "application/vnd.google.colaboratory.intrinsic+json": {
              "type": "string"
            },
            "text/plain": [
              "'https://authors.library.caltech.edu/2263/1/HILmcb85.pdf'"
            ]
          },
          "metadata": {},
          "execution_count": 28
        }
      ]
    },
    {
      "cell_type": "code",
      "metadata": {
        "colab": {
          "base_uri": "https://localhost:8080/",
          "height": 35
        },
        "id": "hYHwFLcH3ZZ_",
        "outputId": "a663c5e1-1167-4c56-89d1-e6f145c86f27"
      },
      "source": [
        "filename = url.split('/')[-1]\n",
        "filename"
      ],
      "execution_count": null,
      "outputs": [
        {
          "output_type": "execute_result",
          "data": {
            "application/vnd.google.colaboratory.intrinsic+json": {
              "type": "string"
            },
            "text/plain": [
              "'HILmcb85.pdf'"
            ]
          },
          "metadata": {},
          "execution_count": 29
        }
      ]
    },
    {
      "cell_type": "code",
      "metadata": {
        "id": "Ysl9n-dI17DT"
      },
      "source": [
        "response = requests.get(url)"
      ],
      "execution_count": null,
      "outputs": []
    },
    {
      "cell_type": "code",
      "metadata": {
        "colab": {
          "base_uri": "https://localhost:8080/"
        },
        "id": "7y8Hp3dq3uPT",
        "outputId": "06cee204-689a-4c66-95e1-e519f3d0cf1e"
      },
      "source": [
        "response"
      ],
      "execution_count": null,
      "outputs": [
        {
          "output_type": "execute_result",
          "data": {
            "text/plain": [
              "<Response [200]>"
            ]
          },
          "metadata": {},
          "execution_count": 31
        }
      ]
    },
    {
      "cell_type": "code",
      "metadata": {
        "id": "S2CTTQ-820QG"
      },
      "source": [
        "with open(filename, 'wb') as f:\n",
        "    f.write(response.content)"
      ],
      "execution_count": null,
      "outputs": []
    },
    {
      "cell_type": "code",
      "metadata": {
        "colab": {
          "base_uri": "https://localhost:8080/"
        },
        "id": "Zo8lQla75ZE7",
        "outputId": "92015125-6bd6-4333-a999-afd06d2e9afc"
      },
      "source": [
        "%ls"
      ],
      "execution_count": null,
      "outputs": [
        {
          "output_type": "stream",
          "text": [
            "\u001b[0m\u001b[01;34mauthors_files\u001b[0m/                                             eprint_ids.json\n",
            "copper-ii-inhibition-of-the-sars-co-v-2-main-protease.pdf  HILmcb85.pdf\n"
          ],
          "name": "stdout"
        }
      ]
    },
    {
      "cell_type": "code",
      "metadata": {
        "colab": {
          "base_uri": "https://localhost:8080/"
        },
        "id": "UfqiIjs22glg",
        "outputId": "1242da78-31b9-406e-da27-69de5e07d59c"
      },
      "source": [
        "%mkdir authors_files/"
      ],
      "execution_count": null,
      "outputs": [
        {
          "output_type": "stream",
          "text": [
            "mkdir: cannot create directory ‘authors_files/’: File exists\n"
          ],
          "name": "stdout"
        }
      ]
    },
    {
      "cell_type": "code",
      "metadata": {
        "colab": {
          "base_uri": "https://localhost:8080/"
        },
        "id": "_58Y17BK555V",
        "outputId": "778baba5-b933-4530-ac29-0730188d1129"
      },
      "source": [
        "%cd authors_files/"
      ],
      "execution_count": null,
      "outputs": [
        {
          "output_type": "stream",
          "text": [
            "/content/drive/My Drive/MyData/authors_files\n"
          ],
          "name": "stdout"
        }
      ]
    },
    {
      "cell_type": "code",
      "metadata": {
        "id": "DtDaaLnw5cU5"
      },
      "source": [
        "for url in content_urls:\n",
        "  filename = url.split('/')[-1]\n",
        "  time.sleep(1)\n",
        "  response = requests.get(url)\n",
        "  with open(filename, 'wb') as f:\n",
        "    f.write(response.content)"
      ],
      "execution_count": null,
      "outputs": []
    },
    {
      "cell_type": "code",
      "metadata": {
        "colab": {
          "base_uri": "https://localhost:8080/"
        },
        "id": "H7bsErW46RtE",
        "outputId": "9289769e-c61b-49e8-9ab9-a3b860c99950"
      },
      "source": [
        "%ls"
      ],
      "execution_count": null,
      "outputs": [
        {
          "output_type": "stream",
          "text": [
            "0004-637X_490_1_368.pdf\n",
            "0004-637X_759_1_29.pdf\n",
            "0004-637X_782_2_115.pdf\n",
            "01617428.pdf\n",
            "1003.full.pdf\n",
            "1009.4913.pdf\n",
            "1151_1.pdf\n",
            "117.full.pdf\n",
            "12127.full.pdf\n",
            "1305.3957v4.pdf\n",
            "141.pdf\n",
            "1612.02126.pdf\n",
            "1903.07409.pdf\n",
            "1983ApJ___264L__69B.pdf\n",
            "1985PASP___97__932S.pdf\n",
            "1987_HagerGurnis_RG.pdf\n",
            "1995MNRAS_276__847L.pdf\n",
            "1-s2.0-S0022123621002275-main.pdf\n",
            "1-s2.0-S2211124720302710-main.pdf\n",
            "417.full.pdf\n",
            "661.full.pdf\n",
            "70122G.pdf\n",
            "78860M_1.pdf\n",
            "81.pdf\n",
            "894318.pdf\n",
            "9013.full.pdf\n",
            "9376.full.pdf\n",
            "95JB00244.pdf\n",
            "9811256.pdf\n",
            "990920.pdf\n",
            "apjs_224_2_38.pdf\n",
            "BERjhep99f_preprint.pdf\n",
            "BONpnas63.pdf\n",
            "Bouma_2020_ApJL_893_L29.pdf\n",
            "BOUprb89.pdf\n",
            "BOWpr27a.pdf\n",
            "COParpc89.pdf\n",
            "Daraio2010p11411Phys_Rev_E.pdf\n",
            "e1601814.full.pdf\n",
            "EFFisit04.pdf\n",
            "ggge20015.pdf\n",
            "gingles.pdf\n",
            "Grosberg2009p719J_Theor_Biol.pdf\n",
            "GUIpra00.pdf\n",
            "hh0622.pdf\n",
            "HILmcb85.pdf\n",
            "HORmnras08b.pdf\n",
            "Housner_1973p43.pdf\n",
            "JBO_17_11_116019.pdf\n",
            "jgra10957.pdf\n",
            "jgre20195.pdf\n",
            "journal.pone.0112762.pdf\n",
            "Kim2009p4751J_Mater_Sci.pdf\n",
            "Lohman_2002.pdf\n",
            "MNRASSmith%2CMWLetal.pdf\n",
            "Nakamura2010p7451Phys_Rev_D.pdf\n",
            "nihms502309.pdf\n",
            "nihms73682.pdf\n",
            "ol0c02038_si_001.pdf\n",
            "perona_delvecchioAuto03.pdf\n",
            "PhysRevD.100.024032.pdf\n",
            "PhysRevLett.118.121601.pdf\n",
            "PRAapl83.pdf\n",
            "Rana_2019_ApJ_876_104.pdf\n",
            "ROSaj07.pdf\n",
            "Sato_2017_J._Phys.%253A_Conf._Ser._840_012010.pdf\n",
            "SCHIdev01.pdf\n",
            "sswp1118.pdf\n",
            "sswp720.pdf\n",
            "Travouillon2009p4545Publ_Astron_Soc_Pac.pdf\n",
            "Tyler2009p23410.10880004-637X69121846.pdf\n",
            "WALaj08.pdf\n",
            "z503830_s.pdf\n",
            "Zavala_2021_ApJ_909_165.pdf\n"
          ],
          "name": "stdout"
        }
      ]
    },
    {
      "cell_type": "code",
      "metadata": {
        "id": "Od1KZZlkCwOx"
      },
      "source": [
        ""
      ],
      "execution_count": null,
      "outputs": []
    }
  ]
}